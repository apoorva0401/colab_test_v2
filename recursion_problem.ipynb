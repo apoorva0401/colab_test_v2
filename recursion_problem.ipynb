{
  "nbformat": 4,
  "nbformat_minor": 0,
  "metadata": {
    "colab": {
      "provenance": [],
      "include_colab_link": true
    },
    "kernelspec": {
      "name": "python3",
      "display_name": "Python 3"
    },
    "language_info": {
      "name": "python"
    }
  },
  "cells": [
    {
      "cell_type": "markdown",
      "metadata": {
        "id": "view-in-github",
        "colab_type": "text"
      },
      "source": [
        "<a href=\"https://colab.research.google.com/github/apoorva0401/colab_test_v2/blob/main/recursion_problem.ipynb\" target=\"_parent\"><img src=\"https://colab.research.google.com/assets/colab-badge.svg\" alt=\"Open In Colab\"/></a>"
      ]
    },
    {
      "cell_type": "markdown",
      "source": [
        "[python string method](https://https://ncert.nic.in/textbook/pdf/kecs108.pdf)"
      ],
      "metadata": {
        "id": "g5aIyHhJ_su5"
      }
    },
    {
      "cell_type": "markdown",
      "source": [
        "Solution for reversing a string using both iterative and recursive approaches, with detailed comments included in the code.\n",
        "\n",
        "## Reverse a String\n",
        "\n",
        "### Iterative Solution\n",
        "\n",
        "```python\n",
        "def reverse_string_iterative(string):\n",
        "    \"\"\"\n",
        "    This function will reverse a string using an iterative approach.\n",
        "    Called: reverse_string_iterative('hello')\n",
        "    Output: 'olleh'\n",
        "    \"\"\"\n",
        "    # Initialize an empty string to store the reversed string\n",
        "    reversed_string = \"\"\n",
        "    # Loop through the original string from the end to the beginning\n",
        "    for char in reversed(string):\n",
        "        # Append each character to the reversed_string\n",
        "        reversed_string += char\n",
        "    # Return the reversed string\n",
        "    return reversed_string\n",
        "\n",
        "# Example call\n",
        "print(reverse_string_iterative('hello'))  # Output: 'olleh'\n",
        "```\n",
        "\n",
        "### Recursive Solution\n",
        "\n",
        "```python\n",
        "def reverse_string_recursive(string):\n",
        "    \"\"\"\n",
        "    This function will reverse a string using recursion.\n",
        "    Called: reverse_string_recursive('hello')\n",
        "    Output: 'olleh'\n",
        "    \"\"\"\n",
        "    # Base case: if the string is empty or has only one character, return the string\n",
        "    if len(string) <= 1:\n",
        "        return string\n",
        "    # Recursive case: return the last character + reverse of the rest of the string\n",
        "    return string[-1] + reverse_string_recursive(string[:-1])\n",
        "\n",
        "# Example call\n",
        "print(reverse_string_recursive('hello'))  # Output: 'olleh'\n",
        "```\n",
        "\n",
        "**Explanation:**\n",
        "\n",
        "- **Base Case:**\n",
        "  - If the string is empty or has only one character, it is already reversed, so we return it as is.\n",
        "  - `if len(string) <= 1: return string`\n",
        "- **Recursive Case:**\n",
        "  - We take the last character of the string (`string[-1]`), and then recursively call the function on the remaining part of the string (`string[:-1]`).\n",
        "  - `return string[-1] + reverse_string_recursive(string[:-1])`\n",
        "  - This process continues until the base case is reached.\n",
        "\n",
        "The recursive approach builds the reversed string step by step by combining the last character of the current string with the reversed version of the remaining string."
      ],
      "metadata": {
        "id": "Vq6WR376Rb3l"
      }
    },
    {
      "cell_type": "markdown",
      "source": [
        "Sure, let's solve the problem of checking for palindromes using recursion. We'll write two functions: one to determine if a string is a palindrome, and another to determine how close a string is to being a palindrome.\n",
        "\n",
        "## Part 1: Check if a String is a Palindrome\n",
        "\n",
        "### Recursive Solution\n",
        "\n",
        "```python\n",
        "def is_palindrome(string):\n",
        "    \"\"\"\n",
        "    In this function, you will return True if the word is a palindrome\n",
        "    and False if it is not.\n",
        "    \n",
        "    Example:\n",
        "    - \"aabbaa\" is a palindrome.\n",
        "    - \"aabaa\" is also a palindrome.\n",
        "    - \"aabbba\" is not a palindrome.\n",
        "    \"\"\"\n",
        "    # Base case: If the string has 0 or 1 character, it is a palindrome\n",
        "    if len(string) <= 1:\n",
        "        return True\n",
        "    # Check if the first and last characters are the same\n",
        "    if string[0] == string[-1]:\n",
        "        # Recursive case: Check the substring without the first and last characters\n",
        "        return is_palindrome(string[1:-1])\n",
        "    else:\n",
        "        # If the first and last characters are not the same, it is not a palindrome\n",
        "        return False\n",
        "\n",
        "# Example calls\n",
        "print(is_palindrome(\"aabbaa\"))  # Output: True\n",
        "print(is_palindrome(\"aabaa\"))   # Output: True\n",
        "print(is_palindrome(\"aabbba\"))  # Output: False\n",
        "```\n",
        "\n",
        "**Explanation:**\n",
        "\n",
        "- **Base Case:**\n",
        "  - If the string length is 0 or 1, it is a palindrome.\n",
        "  - `if len(string) <= 1: return True`\n",
        "- **Recursive Case:**\n",
        "  - Check if the first and last characters are the same.\n",
        "  - If they are, call the function recursively on the substring without the first and last characters.\n",
        "  - `if string[0] == string[-1]: return is_palindrome(string[1:-1])`\n",
        "  - If the first and last characters are not the same, return False.\n",
        "  - `else: return False`\n",
        "\n",
        "## Part 2: Check How Close a String is to Being a Palindrome\n",
        "\n",
        "### Recursive Solution\n",
        "\n",
        "```python\n",
        "def is_close_to_palindrome(string, count=0):\n",
        "    \"\"\"\n",
        "    In this function, you will check how close a string is to being a\n",
        "    palindrome by returning the number of letters that match.\n",
        "    Count starts at 0.\n",
        "    \n",
        "    Example:\n",
        "    - Given a string \"aabbcccbZaM\" will return 4.\n",
        "    - Note, the center letter counts as 1.\n",
        "    \"\"\"\n",
        "    # Base case: If the string has 0 or 1 character, it is a near palindrome\n",
        "    if len(string) <= 1:\n",
        "        return count + 1\n",
        "    # Check if the first and last characters are the same\n",
        "    if string[0] == string[-1]:\n",
        "        # Increment count as the first and last characters match\n",
        "        count += 1\n",
        "    # Recursive case: Check the substring without the first and last characters\n",
        "    return is_close_to_palindrome(string[1:-1], count)\n",
        "\n",
        "# Example calls\n",
        "print(is_close_to_palindrome(\"aabbcccbZaM\"))  # Output: 4\n",
        "print(is_close_to_palindrome(\"racecar\"))      # Output: 4\n",
        "print(is_close_to_palindrome(\"aabaa\"))        # Output: 2\n",
        "```\n",
        "\n",
        "**Explanation:**\n",
        "\n",
        "- **Base Case:**\n",
        "  - If the string length is 0 or 1, it is a near palindrome, so return the count incremented by 1.\n",
        "  - `if len(string) <= 1: return count + 1`\n",
        "- **Recursive Case:**\n",
        "  - Check if the first and last characters are the same.\n",
        "  - If they are, increment the count.\n",
        "  - `if string[0] == string[-1]: count += 1`\n",
        "  - Call the function recursively on the substring without the first and last characters.\n",
        "  - `return is_close_to_palindrome(string[1:-1], count)`\n",
        "\n",
        "By using these recursive approaches, you can check whether a string is a palindrome and determine how close it is to being a palindrome, taking advantage of the natural structure of recursive functions to break down the problem step by step."
      ],
      "metadata": {
        "id": "66qy1EizThHy"
      }
    },
    {
      "cell_type": "markdown",
      "source": [
        "Sure, let's solve the problem of generating the Fibonacci sequence using both iterative and recursive approaches. We will also provide detailed comments inside the code for better understanding.\n",
        "\n",
        "## Fibonacci Sequence\n",
        "\n",
        "### Iterative Solution\n",
        "\n",
        "```python\n",
        "def fibonacci_iterative(count):\n",
        "    \"\"\"\n",
        "    In this function, you will return a list of Fibonacci numbers, as\n",
        "    shown in the example above.\n",
        "    \n",
        "    Example: fibonacci_iterative(7)\n",
        "    Output: [0, 1, 1, 2, 3, 5, 8]\n",
        "    \"\"\"\n",
        "    # Initialize the list with the first two Fibonacci numbers\n",
        "    fibonacci_sequence = [0, 1]\n",
        "    \n",
        "    # Check if the count is 0 or 1 and return the appropriate result\n",
        "    if count == 0:\n",
        "        return []\n",
        "    elif count == 1:\n",
        "        return [0]\n",
        "    \n",
        "    # Loop to generate the Fibonacci sequence until the desired count\n",
        "    for i in range(2, count):\n",
        "        # Calculate the next Fibonacci number by adding the last two numbers in the list\n",
        "        next_fib = fibonacci_sequence[-1] + fibonacci_sequence[-2]\n",
        "        # Append the next Fibonacci number to the list\n",
        "        fibonacci_sequence.append(next_fib)\n",
        "    \n",
        "    # Return the Fibonacci sequence up to the requested count\n",
        "    return fibonacci_sequence\n",
        "\n",
        "# Example call\n",
        "print(fibonacci_iterative(7))  # Output: [0, 1, 1, 2, 3, 5, 8]\n",
        "```\n",
        "\n",
        "### Recursive Solution\n",
        "\n",
        "```python\n",
        "def fibonacci_recursive(count):\n",
        "    \"\"\"\n",
        "    In this function, you will return a list of Fibonacci numbers, as\n",
        "    shown in the example above.\n",
        "    \n",
        "    Example: fibonacci_recursive(7)\n",
        "    Output: [0, 1, 1, 2, 3, 5, 8]\n",
        "    \"\"\"\n",
        "    # Helper function to get the Fibonacci number at a specific position using recursion\n",
        "    def get_fib(n):\n",
        "        # Base case: Return n if it is 0 or 1\n",
        "        if n <= 1:\n",
        "            return n\n",
        "        # Recursive case: Sum of the two preceding Fibonacci numbers\n",
        "        return get_fib(n-1) + get_fib(n-2)\n",
        "    \n",
        "    # Generate the list of Fibonacci numbers using the helper function\n",
        "    fibonacci_sequence = [get_fib(i) for i in range(count)]\n",
        "    \n",
        "    # Return the Fibonacci sequence up to the requested count\n",
        "    return fibonacci_sequence\n",
        "\n",
        "# Example call\n",
        "print(fibonacci_recursive(7))  # Output: [0, 1, 1, 2, 3, 5, 8]\n",
        "```\n",
        "\n",
        "**Explanation:**\n",
        "\n",
        "### Iterative Solution\n",
        "\n",
        "- **Initialization:**\n",
        "  - The list `fibonacci_sequence` is initialized with the first two Fibonacci numbers `[0, 1]`.\n",
        "- **Edge Cases:**\n",
        "  - If the `count` is 0, return an empty list.\n",
        "  - If the `count` is 1, return `[0]`.\n",
        "- **Loop:**\n",
        "  - The loop runs from 2 to `count - 1`.\n",
        "  - In each iteration, calculate the next Fibonacci number as the sum of the last two numbers in the list.\n",
        "  - Append the calculated Fibonacci number to the list.\n",
        "- **Return:**\n",
        "  - Return the list `fibonacci_sequence` up to the requested count.\n",
        "\n",
        "### Recursive Solution\n",
        "\n",
        "- **Helper Function:**\n",
        "  - `get_fib(n)` is a helper function that returns the Fibonacci number at position `n` using recursion.\n",
        "  - **Base Case:**\n",
        "    - If `n` is 0 or 1, return `n`.\n",
        "  - **Recursive Case:**\n",
        "    - Return the sum of `get_fib(n-1)` and `get_fib(n-2)`.\n",
        "- **List Comprehension:**\n",
        "  - Use a list comprehension to generate the list of Fibonacci numbers by calling `get_fib(i)` for each `i` from 0 to `count - 1`.\n",
        "- **Return:**\n",
        "  - Return the list `fibonacci_sequence` up to the requested count.\n",
        "\n",
        "By using these approaches, you can generate the Fibonacci sequence either iteratively or recursively, understanding how each step contributes to building the sequence."
      ],
      "metadata": {
        "id": "steXoAM-UE4s"
      }
    },
    {
      "cell_type": "markdown",
      "source": [],
      "metadata": {
        "id": "A_YDPKhK363q"
      }
    },
    {
      "cell_type": "code",
      "source": [
        "def factorial(n):\n",
        "    result = 0\n",
        "    for i in range(1, n + 1):\n",
        "        result *= i\n",
        "    return result\n",
        "\n",
        "factorial(5)"
      ],
      "metadata": {
        "colab": {
          "base_uri": "https://localhost:8080/"
        },
        "id": "jDMBkxbD392b",
        "outputId": "4bf7f9a8-a0d7-4f3c-e168-e483e8a5c554"
      },
      "execution_count": null,
      "outputs": [
        {
          "output_type": "execute_result",
          "data": {
            "text/plain": [
              "1"
            ]
          },
          "metadata": {},
          "execution_count": 3
        }
      ]
    },
    {
      "cell_type": "code",
      "source": [
        "def factorial(n):\n",
        "  if n < 0:\n",
        "    return('f off')\n",
        "  if n == 0 or n == 1:\n",
        "    return 1\n",
        "  else:\n",
        "    return n * factorial(n-1) # 5 * factorial(4)---> 4*fact(3)--->3*fact(2)--->2*fact(1)---> 1*1\n",
        "\n",
        "\n",
        "#7!= 7*6!\n",
        "#n!= n*(n-1)!\n",
        "\n",
        "factorial(5)"
      ],
      "metadata": {
        "colab": {
          "base_uri": "https://localhost:8080/"
        },
        "id": "QIobVnfx4q-b",
        "outputId": "87ff4fd1-4b0b-410b-b9ef-6b54502f1ae7"
      },
      "execution_count": null,
      "outputs": [
        {
          "output_type": "execute_result",
          "data": {
            "text/plain": [
              "120"
            ]
          },
          "metadata": {},
          "execution_count": 10
        }
      ]
    },
    {
      "cell_type": "markdown",
      "source": [
        "# Factorials Are Left Test Zone Below"
      ],
      "metadata": {
        "id": "OYwBo_Ce_mJ6"
      }
    },
    {
      "cell_type": "code",
      "source": [
        "# Python code that compares the\n",
        "# asymptotic behaviour of several functions\n",
        "\n",
        "import numpy as np\n",
        "import matplotlib.pyplot as plt\n",
        "\n",
        "# Returns a function that computes x ^ n for a given n\n",
        "def poly(n):\n",
        "\tdef polyXN(x):\n",
        "\t\treturn x**n\n",
        "\treturn polyXN\n",
        "\n",
        "# Functions to compare and colors to use in the graph\n",
        "FUNCTIONS = [np.log, poly(1), poly(2), poly(3), np.exp]\n",
        "COLORS = ['c', 'b', 'm', 'y', 'r']\n",
        "\n",
        "# Plot the graphs\n",
        "def compareAsymptotic(n):\n",
        "\tx = np.arange(1, n, 1)\n",
        "\tplt.title('O(n) for n ='+str(n))\n",
        "\tfor f, c in zip(FUNCTIONS, COLORS):\n",
        "\t\tplt.plot(x, f(x), c)\n",
        "\tplt.show()\n",
        "\n",
        "compareAsymptotic(3)\n",
        "compareAsymptotic(5)\n",
        "compareAsymptotic(10)\n",
        "compareAsymptotic(20)\n"
      ],
      "metadata": {
        "colab": {
          "base_uri": "https://localhost:8080/",
          "height": 1000
        },
        "id": "5a7iLyUI_8P4",
        "outputId": "5a1df0c8-5765-4a35-ad2c-dcdd0820d502"
      },
      "execution_count": null,
      "outputs": [
        {
          "output_type": "display_data",
          "data": {
            "text/plain": [
              "<Figure size 640x480 with 1 Axes>"
            ],
            "image/png": "[encoded data removed]"
          },
          "metadata": {}
        },
        {
          "output_type": "display_data",
          "data": {
            "text/plain": [
              "<Figure size 640x480 with 1 Axes>"
            ],
            "image/png": "[encoded data removed]"
          },
          "metadata": {}
        },
        {
          "output_type": "display_data",
          "data": {
            "text/plain": [
              "<Figure size 640x480 with 1 Axes>"
            ],
            "image/png": "[encoded data removed]"
          },
          "metadata": {}
        },
        {
          "output_type": "display_data",
          "data": {
            "text/plain": [
              "<Figure size 640x480 with 1 Axes>"
            ],
            "image/png": "[encoded data removed]"
          },
          "metadata": {}
        }
      ]
    },
    {
      "cell_type": "code",
      "source": [
        "# Elegant simple palindrome using the inbuilt function\n",
        "\n",
        "def is_palindrome_builtin(s):\n",
        "    # Reverse the string using slicing\n",
        "    reversed_string = s[::-1]\n",
        "\n",
        "    # Check if the original string is equal to the reversed string\n",
        "    return s == reversed_string\n",
        "\n",
        "# Example usage:\n",
        "print(is_palindrome_builtin(\"level\"))  # Output: True\n",
        "print(is_palindrome_builtin(\"python\"))  # Output: False\n"
      ],
      "metadata": {
        "colab": {
          "base_uri": "https://localhost:8080/"
        },
        "id": "PTsWqquUD15t",
        "outputId": "8427eec3-7909-4f65-9390-d3f1794f71e1"
      },
      "execution_count": null,
      "outputs": [
        {
          "output_type": "stream",
          "name": "stdout",
          "text": [
            "True\n",
            "False\n"
          ]
        }
      ]
    },
    {
      "cell_type": "code",
      "source": [
        "# fibonacci using iterable\n",
        "\n",
        "def fibonacci_iterative(n):\n",
        "  \"\"\"Calculates the nth Fibonacci number using iteration.\"\"\"\n",
        "  a, b = 0, 1\n",
        "  for i in range(n):\n",
        "    a, b = b, a + b\n",
        "  return a\n",
        "\n",
        "fibonacci_iterative(6)\n",
        "\n",
        "# simpler explanation almost identical without tuple unpacking\n",
        "\n",
        "def fibonacci_iterative(n):\n",
        "  \"\"\"Calculates the nth Fibonacci number using iteration.\"\"\"\n",
        "  previous = 0  # Initialize the first Fibonacci number (0th)\n",
        "  current = 1  # Initialize the second Fibonacci number (1st)\n",
        "  for i in range(n):\n",
        "    next_number = previous + current  # Calculate the next Fibonacci number\n",
        "    previous = current  # Update previous with the current value\n",
        "    current = next_number  # Update current with the newly calculated number\n",
        "  return current\n",
        "\n",
        "# Example usage\n",
        "nth_number = 6\n",
        "fibonacci_result = fibonacci_iterative(nth_number)\n",
        "print(f\"The {nth_number}th Fibonacci number is: {fibonacci_result}\")\n"
      ],
      "metadata": {
        "colab": {
          "base_uri": "https://localhost:8080/"
        },
        "id": "LdESlw9dEtxj",
        "outputId": "ba1c2179-0473-4cdf-e772-024324083fa4"
      },
      "execution_count": null,
      "outputs": [
        {
          "output_type": "execute_result",
          "data": {
            "text/plain": [
              "8"
            ]
          },
          "metadata": {},
          "execution_count": 4
        }
      ]
    },
    {
      "cell_type": "code",
      "source": [
        "def reverse_string_recursive(text):\n",
        "  \"\"\"Reverses a string using recursion.\"\"\"\n",
        "  if len(text) == 0:\n",
        "    return text  # Base case: empty string\n",
        "  else:\n",
        "    first_char = text[0]\n",
        "    remaining_string = text[1:]\n",
        "    reversed_text = reverse_string_recursive(remaining_string)\n",
        "    return first_char + reversed_text\n",
        "\n",
        "# Example usage (same as iterative)\n",
        "original_text = \"Hello World!\"\n",
        "reversed_text = reverse_string_recursive(original_text)\n",
        "print(reversed_text)  # Output: !dlroW olleH"
      ],
      "metadata": {
        "id": "SClOAVV9E2q-"
      },
      "execution_count": null,
      "outputs": []
    },
    {
      "cell_type": "markdown",
      "source": [
        "## Iterative loop nested factorial"
      ],
      "metadata": {
        "id": "aggLuy1UFjXJ"
      }
    },
    {
      "cell_type": "code",
      "source": [
        "def factorial_iterative(n):\n",
        "  \"\"\"Calculates the factorial of a number using iteration.\"\"\"\n",
        "  if n == 0:\n",
        "    return 1\n",
        "  else:\n",
        "    factorial = 1\n",
        "    for i in range(1, n + 1):\n",
        "      factorial *= i\n",
        "    return factorial\n",
        "\n",
        "# Example usage\n",
        "number = 5\n",
        "factorial_result = factorial_iterative(number)\n",
        "print(f\"Factorial of {number} is: {factorial_result}\")\n"
      ],
      "metadata": {
        "id": "6gWSeeC7FnM1"
      },
      "execution_count": null,
      "outputs": []
    },
    {
      "cell_type": "code",
      "source": [
        "def is_palindrome_for_loop(s):\n",
        "    n = len(s)\n",
        "    # Iterate from the start to the middle of the string\n",
        "    for i in range(n // 2):\n",
        "        # If the characters at the corresponding positions are not the same, it's not a palindrome\n",
        "        if s[i] != s[n - 1 - i]:\n",
        "            return False\n",
        "    return True\n",
        "\n",
        "# Example usage:\n",
        "print(is_palindrome_for_loop(\"madam\"))  # Output: True\n",
        "print(is_palindrome_for_loop(\"hello\"))  # Output: False\n"
      ],
      "metadata": {
        "id": "AXFIq300IyEr"
      },
      "execution_count": null,
      "outputs": []
    },
    {
      "cell_type": "code",
      "source": [
        "def is_palindrome_while_loop(s):\n",
        "    # Initialize two pointers, one at the start and one at the end of the string\n",
        "    left, right = 0, len(s) - 1\n",
        "\n",
        "    # Loop until the two pointers meet in the middle\n",
        "    while left < right:\n",
        "        # If the characters at the pointers are not the same, it's not a palindrome\n",
        "        if s[left] != s[right]:\n",
        "            return False\n",
        "        # Move the pointers towards the middle\n",
        "        left += 1\n",
        "        right -= 1\n",
        "\n",
        "    return True\n",
        "\n",
        "# Example usage:\n",
        "print(is_palindrome_while_loop(\"madam\"))  # Output: True\n",
        "print(is_palindrome_while_loop(\"hello\"))  # Output: False\n"
      ],
      "metadata": {
        "id": "Ara4tILNIyod"
      },
      "execution_count": null,
      "outputs": []
    },
    {
      "cell_type": "code",
      "source": [
        "def is_palindrome_builtin(s):\n",
        "    # Reverse the string using slicing\n",
        "    reversed_string = s[::-1]\n",
        "\n",
        "    # Check if the original string is equal to the reversed string\n",
        "    return s == reversed_string\n",
        "\n",
        "# Example usage:\n",
        "print(is_palindrome_builtin(\"level\"))  # Output: True\n",
        "print(is_palindrome_builtin(\"python\"))  # Output: False\n"
      ],
      "metadata": {
        "id": "m4cx1jGtI2Wg"
      },
      "execution_count": null,
      "outputs": []
    },
    {
      "cell_type": "markdown",
      "source": [
        "# count with counter"
      ],
      "metadata": {
        "id": "EFbTCdOiLBNU"
      }
    },
    {
      "cell_type": "code",
      "source": [
        "words = [\"apple\", \"banana\", \"apple\", \"orange\", \"banana\"]\n",
        "counts = []\n",
        "\n",
        "for word in words:\n",
        "    if word not in counts:\n",
        "        counts.append(word)\n",
        "        counts.append(1)  # Append count (less efficient)\n",
        "    else:\n",
        "        index = counts.index(word)\n",
        "        counts[index + 1] += 1  # Update count (error-prone)\n",
        "\n",
        "print(counts)  # Output: ['apple', 1, 1, 'banana', 1, 2, 'orange'] (hard to interpret)\n"
      ],
      "metadata": {
        "id": "fL4XOpHvLDlc"
      },
      "execution_count": null,
      "outputs": []
    },
    {
      "cell_type": "code",
      "source": [
        "from collections import Counter\n",
        "\n",
        "words = [\"apple\", \"banana\", \"apple\", \"orange\", \"banana\"]\n",
        "\n",
        "word_counts = Counter(words)\n",
        "\n",
        "print(word_counts)  # Output: Counter({'apple': 2, 'banana': 2, 'orange': 1}) (clear and concise)\n"
      ],
      "metadata": {
        "id": "mPGOTmDULER6"
      },
      "execution_count": null,
      "outputs": []
    },
    {
      "cell_type": "code",
      "source": [
        "# N is the size of the 2D matrix N*N\n",
        "N = 9\n",
        "\n",
        "# A utility function to print grid\n",
        "def printing(arr):\n",
        "\tfor i in range(N):\n",
        "\t\tfor j in range(N):\n",
        "\t\t\tprint(arr[i][j], end = \" \")\n",
        "\t\tprint()\n",
        "\n",
        "# Checks whether it will be\n",
        "# legal to assign num to the\n",
        "# given row, col\n",
        "def isSafe(grid, row, col, num):\n",
        "\n",
        "\t# Check if we find the same num\n",
        "\t# in the similar row , we\n",
        "\t# return false\n",
        "\tfor x in range(9):\n",
        "\t\tif grid[row][x] == num:\n",
        "\t\t\treturn False\n",
        "\n",
        "\t# Check if we find the same num in\n",
        "\t# the similar column , we\n",
        "\t# return false\n",
        "\tfor x in range(9):\n",
        "\t\tif grid[x][col] == num:\n",
        "\t\t\treturn False\n",
        "\n",
        "\t# Check if we find the same num in\n",
        "\t# the particular 3*3 matrix,\n",
        "\t# we return false\n",
        "\tstartRow = row - row % 3\n",
        "\tstartCol = col - col % 3\n",
        "\tfor i in range(3):\n",
        "\t\tfor j in range(3):\n",
        "\t\t\tif grid[i + startRow][j + startCol] == num:\n",
        "\t\t\t\treturn False\n",
        "\treturn True\n",
        "\n",
        "# Takes a partially filled-in grid and attempts\n",
        "# to assign values to all unassigned locations in\n",
        "# such a way to meet the requirements for\n",
        "# Sudoku solution (non-duplication across rows,\n",
        "# columns, and boxes) */\n",
        "def solveSudoku(grid, row, col):\n",
        "\n",
        "\t# Check if we have reached the 8th\n",
        "\t# row and 9th column (0\n",
        "\t# indexed matrix) , we are\n",
        "\t# returning true to avoid\n",
        "\t# further backtracking\n",
        "\tif (row == N - 1 and col == N):\n",
        "\t\treturn True\n",
        "\n",
        "\t# Check if column value becomes 9 ,\n",
        "\t# we move to next row and\n",
        "\t# column start from 0\n",
        "\tif col == N:\n",
        "\t\trow += 1\n",
        "\t\tcol = 0\n",
        "\n",
        "\t# Check if the current position of\n",
        "\t# the grid already contains\n",
        "\t# value >0, we iterate for next column\n",
        "\tif grid[row][col] > 0:\n",
        "\t\treturn solveSudoku(grid, row, col + 1)\n",
        "\tfor num in range(1, N + 1, 1):\n",
        "\n",
        "\t\t# Check if it is safe to place\n",
        "\t\t# the num (1-9) in the\n",
        "\t\t# given row ,col ->we\n",
        "\t\t# move to next column\n",
        "\t\tif isSafe(grid, row, col, num):\n",
        "\n",
        "\t\t\t# Assigning the num in\n",
        "\t\t\t# the current (row,col)\n",
        "\t\t\t# position of the grid\n",
        "\t\t\t# and assuming our assigned\n",
        "\t\t\t# num in the position\n",
        "\t\t\t# is correct\n",
        "\t\t\tgrid[row][col] = num\n",
        "\n",
        "\t\t\t# Checking for next possibility with next\n",
        "\t\t\t# column\n",
        "\t\t\tif solveSudoku(grid, row, col + 1):\n",
        "\t\t\t\treturn True\n",
        "\n",
        "\t\t# Removing the assigned num ,\n",
        "\t\t# since our assumption\n",
        "\t\t# was wrong , and we go for\n",
        "\t\t# next assumption with\n",
        "\t\t# diff num value\n",
        "\t\tgrid[row][col] = 0\n",
        "\treturn False\n",
        "\n",
        "# Driver Code\n",
        "\n",
        "# 0 means unassigned cells\n",
        "grid = [[3, 0, 6, 5, 0, 8, 4, 0, 0],\n",
        "\t\t[5, 2, 0, 0, 0, 0, 0, 0, 0],\n",
        "\t\t[0, 8, 7, 0, 0, 0, 0, 3, 1],\n",
        "\t\t[0, 0, 3, 0, 1, 0, 0, 8, 0],\n",
        "\t\t[9, 0, 0, 8, 6, 3, 0, 0, 5],\n",
        "\t\t[0, 5, 0, 0, 9, 0, 6, 0, 0],\n",
        "\t\t[1, 3, 0, 0, 0, 0, 2, 5, 0],\n",
        "\t\t[0, 0, 0, 0, 0, 0, 0, 7, 4],\n",
        "\t\t[0, 0, 5, 2, 0, 6, 3, 0, 0]]\n",
        "\n",
        "if (solveSudoku(grid, 0, 0)):\n",
        "\tprinting(grid)\n",
        "else:\n",
        "\tprint(\"no solution exists \")\n",
        "\n",
        "\t# This code is contributed by sudhanshgupta2019a\n"
      ],
      "metadata": {
        "colab": {
          "base_uri": "https://localhost:8080/"
        },
        "id": "ODSyEACUX3Cm",
        "outputId": "c73ea80e-f83b-4e86-ae36-3288d555dab2"
      },
      "execution_count": null,
      "outputs": [
        {
          "output_type": "stream",
          "name": "stdout",
          "text": [
            "3 1 6 5 7 8 4 9 2 \n",
            "5 2 9 1 3 4 7 6 8 \n",
            "4 8 7 6 2 9 5 3 1 \n",
            "2 6 3 4 1 5 9 8 7 \n",
            "9 7 4 8 6 3 1 2 5 \n",
            "8 5 1 7 9 2 6 4 3 \n",
            "1 3 8 9 4 7 2 5 6 \n",
            "6 9 2 3 5 1 8 7 4 \n",
            "7 4 5 2 8 6 3 1 9 \n"
          ]
        }
      ]
    },
    {
      "cell_type": "code",
      "source": [
        "git remote add origin https://github.com/apoorva0401/colabtest.git\n",
        "git branch -M main\n",
        "git push -u origin main"
      ],
      "metadata": {
        "colab": {
          "base_uri": "https://localhost:8080/",
          "height": 106
        },
        "id": "L71IeS9-oVXc",
        "outputId": "27dbccb3-1963-4fea-be96-218cf5e71892"
      },
      "execution_count": null,
      "outputs": [
        {
          "output_type": "error",
          "ename": "SyntaxError",
          "evalue": "invalid syntax (<ipython-input-1-03059472abc3>, line 1)",
          "traceback": [
            "\u001b[0;36m  File \u001b[0;32m\"<ipython-input-1-03059472abc3>\"\u001b[0;36m, line \u001b[0;32m1\u001b[0m\n\u001b[0;31m    git remote add origin https://github.com/apoorva0401/colabtest.git\u001b[0m\n\u001b[0m        ^\u001b[0m\n\u001b[0;31mSyntaxError\u001b[0m\u001b[0;31m:\u001b[0m invalid syntax\n"
          ]
        }
      ]
    },
    {
      "cell_type": "code",
      "source": [
        "!git remote add origin https://github.com/apoorva0401/colabtest.git\n",
        "!git branch -M main\n",
        "!git push -u origin main"
      ],
      "metadata": {
        "colab": {
          "base_uri": "https://localhost:8080/"
        },
        "id": "0Ja6KMMTobyB",
        "outputId": "e572b53c-3b32-48cb-999a-656a85d2a290"
      },
      "execution_count": null,
      "outputs": [
        {
          "output_type": "stream",
          "name": "stdout",
          "text": [
            "fatal: not a git repository (or any of the parent directories): .git\n",
            "fatal: not a git repository (or any of the parent directories): .git\n",
            "fatal: not a git repository (or any of the parent directories): .git\n"
          ]
        }
      ]
    }
  ]
}